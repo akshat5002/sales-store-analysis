{
  "nbformat": 4,
  "nbformat_minor": 0,
  "metadata": {
    "colab": {
      "private_outputs": true,
      "provenance": [],
      "authorship_tag": "ABX9TyPl/vNEhHGXH5IiY4gmtTU+",
      "include_colab_link": true
    },
    "kernelspec": {
      "name": "python3",
      "display_name": "Python 3"
    },
    "language_info": {
      "name": "python"
    }
  },
  "cells": [
    {
      "cell_type": "markdown",
      "metadata": {
        "id": "view-in-github",
        "colab_type": "text"
      },
      "source": [
        "<a href=\"https://colab.research.google.com/github/akshat5002/sales-store-analysis/blob/main/sales_store_analyies_.ipynb\" target=\"_parent\"><img src=\"https://colab.research.google.com/assets/colab-badge.svg\" alt=\"Open In Colab\"/></a>"
      ]
    },
    {
      "cell_type": "code",
      "execution_count": null,
      "metadata": {
        "id": "4JRdXaMRAeGr"
      },
      "outputs": [],
      "source": [
        "import pandas as pd\n",
        "# Load Data\n",
        "data = pd.read_csv(\"/content/features.csv\", parse_dates=[\"Date\"])\n",
        "\n",
        "# Display basic info\n",
        "print(data.info())\n",
        "\n",
        "# Show first few rows\n",
        "print(data.head())"
      ]
    },
    {
      "cell_type": "markdown",
      "source": [
        "Business Challenges:\n",
        "\n",
        "#Identifying High vs. Low-Performing Stores\n",
        "Challenges:\n",
        "\n",
        "1.What factors differentiate high-performing stores from struggling ones?\n",
        "How do markdown strategies, economic conditions, and regional variations impact store performance?\n",
        "Solutions:\n",
        "\n",
        "#Factor Analysis:\n",
        "Analyze key metrics such as sales, markdowns, inventory turnover, and profitability to identify performance drivers.\n",
        "Use clustering techniques to group stores based on similar characteristics.\n",
        "Economic and Regional Insights:\n",
        "Incorporate external factors like CPI (Consumer Price Index), fuel prices, and unemployment rates to understand their impact on store performance.\n",
        "Identify regions with favorable economic conditions that correlate with high performance.\n",
        "#Markdown Strategy Evaluation:\n",
        "Assess the effectiveness of markdowns in driving sales and clearing inventory.\n",
        "Compare markdown strategies between high and low-performing stores to identify best practices.\n",
        "# Optimizing Store Strategies Based on Clustering\n",
        "Challenges:\n",
        "Should different pricing or inventory strategies be applied to different clusters?\n",
        "How can markdowns be optimized for better profitability?\n",
        "Solutions:\n",
        "\n",
        "#Cluster-Specific Strategies:\n",
        "For high-performing stores (Cluster 0): Focus on premium pricing, limited markdowns, and high-margin products.\n",
        "For low-performing stores (Cluster 1): Implement targeted promotions, aggressive markdowns, and inventory optimization to reduce excess stock.\n",
        "#Markdown Optimization:\n",
        "Use predictive analytics to determine the optimal timing and depth of markdowns.\n",
        "Avoid excessive markdowns that erode profitability by balancing inventory turnover with pricing strategies.\n",
        "#Inventory Management:\n",
        "Tailor inventory levels to regional demand patterns.\n",
        "Use clustering insights to forecast demand and reduce overstocking in low-performing regions.\n",
        "# Data-Driven Decision Making for Growth\n",
        "Challenges:\n",
        "Can we group stores with similar performance to create targeted business strategies?\n",
        "How do external factors (CPI, fuel prices, unemployment) affect store clusters?\n",
        "Solutions:\n",
        "\n",
        "#Clustering for Strategy Development:\n",
        "Group stores into clusters based on performance metrics and external factors.\n",
        "Develop targeted strategies for each cluster, such as marketing campaigns, pricing adjustments, and operational improvements.\n",
        "External Factor Analysis:\n",
        "Use regression or correlation analysis to quantify the impact of external  (eg., CPI, fuel prices, unemployment) on store performance.\n",
        "Adjust strategies based on regional economic conditions (e.g., reduce prices in areas with high unemployment).\n",
        "#Continuous Monitoring:\n",
        "Regularly update clustering models to reflect changes in store performance and external conditions.\n",
        "Use dashboards and visualizations to track cluster performance and strategy effectiveness.\n"
      ],
      "metadata": {
        "id": "ZAj43u64FKUw"
      }
    },
    {
      "cell_type": "code",
      "source": [
        "print(data.isnull().sum())  # Count missing values in each column\n"
      ],
      "metadata": {
        "id": "7HzQCNpKBcWQ"
      },
      "execution_count": null,
      "outputs": []
    },
    {
      "cell_type": "code",
      "source": [
        " #Check missing values\n",
        "print(data.isnull().sum())\n",
        "\n",
        "# Fill missing values in numerical columns with median\n",
        "num_cols = ['Temperature', 'Fuel_Price', 'MarkDown1', 'MarkDown2', 'MarkDown3', 'MarkDown4', 'MarkDown5', 'CPI', 'Unemployment']\n",
        "data[num_cols] = data[num_cols].fillna(data[num_cols].median())\n",
        "\n",
        "# Fill categorical column\n",
        "data['IsHoliday'] = data['IsHoliday'].fillna(data['IsHoliday'].mode()[0])"
      ],
      "metadata": {
        "id": "O64ZPYm4Biae"
      },
      "execution_count": null,
      "outputs": []
    },
    {
      "cell_type": "code",
      "source": [
        "# Extract date features\n",
        "data['Year'] = data['Date'].dt.year\n",
        "data['Month'] = data['Date'].dt.month\n",
        "data['Week'] = data['Date'].dt.isocalendar().week\n",
        "data['DayOfWeek'] = data['Date'].dt.dayofweek  # Monday=0, Sunday=6\n"
      ],
      "metadata": {
        "id": "m2gW4o20Bqgf"
      },
      "execution_count": null,
      "outputs": []
    },
    {
      "cell_type": "code",
      "source": [
        "# Lag features for temperature and fuel price\n",
        "data['Prev_Week_Temp'] = data.groupby('Store')['Temperature'].shift(7)\n",
        "data['Prev_Week_Fuel_Price'] = data.groupby('Store')['Fuel_Price'].shift(7)"
      ],
      "metadata": {
        "id": "HLxn1V7gBwtW"
      },
      "execution_count": null,
      "outputs": []
    },
    {
      "cell_type": "code",
      "source": [
        "import matplotlib.pyplot as plt\n",
        "import seaborn as sns\n",
        "\n",
        "# Correlation Heatmap\n",
        "plt.figure(figsize=(10,4))\n",
        "sns.heatmap(data.corr(), annot=True, cmap='coolwarm', fmt='.2f')\n",
        "plt.title(\"Feature Correlation\")\n",
        "plt.show()"
      ],
      "metadata": {
        "id": "gamyf4OLB1fO"
      },
      "execution_count": null,
      "outputs": []
    },
    {
      "cell_type": "code",
      "source": [
        "# Visualize markdown trends over time\n",
        "plt.figure(figsize=(10,6))\n",
        "sns.scatterplot(x='Date', y='MarkDown1', data=data, color=\"green\")\n",
        "plt.title(\"Markdown 1 Trend Over Time\")\n",
        "plt.show()"
      ],
      "metadata": {
        "id": "O9epyqywCK4e"
      },
      "execution_count": null,
      "outputs": []
    },
    {
      "cell_type": "code",
      "source": [
        "# Compare markdowns on holidays vs non-holidays\n",
        "sns.boxplot(x='IsHoliday', y='MarkDown1', data=data,color='red')\n",
        "plt.title(\"Markdown 1 on Holidays vs Non-Holidays\")\n",
        "plt.show()"
      ],
      "metadata": {
        "id": "9S3MweUADsIw"
      },
      "execution_count": null,
      "outputs": []
    },
    {
      "cell_type": "markdown",
      "source": [
        "ADVANCE STORE LEVEL ANAYLSIS :\n",
        "\n",
        "#Store Opening Date\n",
        " This refers to the specific date when a retail store first opened its doors to customers.\n",
        "\n",
        "SOLUTIONS : Knowing the store opening date helps in understanding how long the store has been operating, which can be important for analyzing its performance over time.\n",
        "\n",
        "#Closed Store Identification\n",
        " This involves identifying stores that are no longer in operation or have been permanently closed.\n",
        "\n",
        "SOLUTION : Identifying closed stores is crucial for analyzing overall sales trends and understanding market dynamics, as it helps to assess the impact of closures on sales performance and customer reach.\n",
        "\n",
        "# Sales Growth/Decline Analysis\n",
        " This is the process of examining changes in sales figures over a specific period to determine whether sales are increasing (growth) or decreasing (decline).\n",
        "\n",
        "SOUTION: Analyzing sales growth or decline helps businesses understand their performance, identify successful strategies, and pinpoint areas that need improvement. It can also inform decisions about inventory, staffing, and marketing efforts.\n",
        "\n"
      ],
      "metadata": {
        "id": "yXwuBeZlHUkQ"
      }
    },
    {
      "cell_type": "markdown",
      "source": [
        "\n"
      ],
      "metadata": {
        "id": "WWa3LK9oH83_"
      }
    },
    {
      "cell_type": "code",
      "source": [
        "# Get the first recorded date for each store\n",
        "store_opening_dates = data.groupby(\"Store\")[\"Date\"].min().reset_index()\n",
        "store_opening_dates.columns = [\"Store\", \"Opening_Date\"]\n",
        "\n",
        "print(store_opening_dates.head())"
      ],
      "metadata": {
        "id": "q-TKqTGwECZo"
      },
      "execution_count": null,
      "outputs": []
    },
    {
      "cell_type": "code",
      "source": [
        "# Get the last recorded date for each store\n",
        "store_closing_dates = data.groupby(\"Store\")[\"Date\"].max().reset_index()\n",
        "store_closing_dates.columns = [\"Store\", \"Last_Active_Date\"]\n",
        "\n",
        "# Define threshold for closing (e.g., stores inactive for 1 year)\n",
        "latest_date = data[\"Date\"].max()\n",
        "store_closing_dates[\"Days_Inactive\"] = (latest_date - store_closing_dates[\"Last_Active_Date\"]).dt.days\n",
        "\n",
        "# Identify stores inactive for more than a year\n",
        "closed_stores = store_closing_dates[store_closing_dates[\"Days_Inactive\"] > 365]\n",
        "if(closed_stores.shape[0]==0):\n",
        "  print('No closed_stores')\n"
      ],
      "metadata": {
        "id": "thEsHiVmELWf"
      },
      "execution_count": null,
      "outputs": []
    },
    {
      "cell_type": "code",
      "source": [],
      "metadata": {
        "id": "5_b_AuASEUfg"
      },
      "execution_count": null,
      "outputs": []
    },
    {
      "cell_type": "code",
      "source": [
        "import pandas as pd\n",
        "from sklearn.preprocessing import StandardScaler\n",
        "from sklearn.cluster import KMeans\n",
        "\n",
        "# Selecting relevant store-level features for clustering\n",
        "features = ['Temperature', 'Fuel_Price', 'MarkDown1', 'MarkDown2', 'MarkDown3', 'MarkDown4', 'MarkDown5', 'CPI', 'Unemployment']\n",
        "\n",
        "# Aggregate data at the store level (mean values)\n",
        "store_data = data.groupby(\"Store\")[features].mean().reset_index()\n",
        "\n",
        "# Standardize the data\n",
        "scaler = StandardScaler()\n",
        "store_data_scaled = scaler.fit_transform(store_data[features])"
      ],
      "metadata": {
        "id": "z8jy8xVFEak_"
      },
      "execution_count": null,
      "outputs": []
    },
    {
      "cell_type": "code",
      "source": [
        "# Apply K-Means clustering with 2 clusters\n",
        "kmeans = KMeans(n_clusters=2, random_state=42)\n",
        "store_data[\"Cluster\"] = kmeans.fit_predict(store_data_scaled)\n",
        "\n",
        "# View cluster assignments\n",
        "print(store_data[[\"Store\", \"Cluster\"]].head())\n"
      ],
      "metadata": {
        "id": "XDk2AZ5vEkGg"
      },
      "execution_count": null,
      "outputs": []
    },
    {
      "cell_type": "code",
      "source": [
        "import matplotlib.pyplot as plt\n",
        "import seaborn as sns\n",
        "\n",
        "plt.figure(figsize=(10,6))\n",
        "sns.scatterplot(x=store_data[\"CPI\"], y=store_data[\"Unemployment\"], hue=store_data[\"Cluster\"], palette=\"viridis\")\n",
        "plt.xlabel(\"CPI (Consumer Price Index)\")\n",
        "plt.ylabel(\"Unemployment Rate\")\n",
        "plt.title(\"Store Clustering Based on Economic Indicators\")\n",
        "plt.legend(title=\"Cluster\")\n",
        "plt.show()"
      ],
      "metadata": {
        "id": "9A5L2M36E6Y4"
      },
      "execution_count": null,
      "outputs": []
    },
    {
      "cell_type": "markdown",
      "source": [
        "Business Interpretation of Clusters\n",
        "\n",
        "#Cluster 0 (e.g., High Performance Stores)\n",
        "Lower unemployment rate, stable fuel prices, and fewer markdowns.\n",
        "Likely in economically strong regions.\n",
        "\n",
        "#Cluster 1 (e.g., Low Performance Stores)\n",
        "Higher markdowns, possibly in areas with economic challenges.\n",
        "May need targeted promotions or business strategy changes."
      ],
      "metadata": {
        "id": "23_M1E90IMZK"
      }
    },
    {
      "cell_type": "code",
      "source": [],
      "metadata": {
        "id": "LSMLOvs-E9rI"
      },
      "execution_count": null,
      "outputs": []
    }
  ]
}